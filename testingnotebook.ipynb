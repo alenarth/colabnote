{
  "nbformat": 4,
  "nbformat_minor": 0,
  "metadata": {
    "colab": {
      "provenance": [],
      "authorship_tag": "ABX9TyPFJmCaqBodM1H0enbs/KJC",
      "include_colab_link": true
    },
    "kernelspec": {
      "name": "python3",
      "display_name": "Python 3"
    },
    "language_info": {
      "name": "python"
    }
  },
  "cells": [
    {
      "cell_type": "markdown",
      "metadata": {
        "id": "view-in-github",
        "colab_type": "text"
      },
      "source": [
        "<a href=\"https://colab.research.google.com/github/alenarth/colabnote/blob/main/testingnotebook.ipynb\" target=\"_parent\"><img src=\"https://colab.research.google.com/assets/colab-badge.svg\" alt=\"Open In Colab\"/></a>"
      ]
    },
    {
      "cell_type": "markdown",
      "source": [
        "Testing Math"
      ],
      "metadata": {
        "id": "eOyrQH71zl8j"
      }
    },
    {
      "cell_type": "code",
      "execution_count": null,
      "metadata": {
        "id": "BYL0vAZ8yxLI"
      },
      "outputs": [],
      "source": [
        "def add (a, b):\n",
        "  return a + b\n",
        "\n",
        "add(5,4)"
      ]
    },
    {
      "cell_type": "markdown",
      "source": [
        "Testing Bool"
      ],
      "metadata": {
        "id": "mVYIqA25zqkG"
      }
    },
    {
      "cell_type": "code",
      "source": [
        "a = 3\n",
        "b = 4\n",
        "add (a, b) == 6"
      ],
      "metadata": {
        "id": "DKKiTNPHzlQU"
      },
      "execution_count": null,
      "outputs": []
    }
  ]
}